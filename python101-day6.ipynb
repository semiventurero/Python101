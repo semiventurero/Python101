{
 "cells": [
  {
   "cell_type": "markdown",
   "metadata": {},
   "source": [
    "# Overriding"
   ]
  },
  {
   "cell_type": "code",
   "execution_count": 1,
   "metadata": {},
   "outputs": [],
   "source": [
    "class employee():\n",
    "    def __init__(self,role,experience,age,salary):\n",
    "        self.role  = role\n",
    "        self.experience  = experience\n",
    "        self.age   = age\n",
    "        self.salary  = salary\n",
    "    def __str__(self):\n",
    "        return \"Role: {}\\nExperience: {}\\nAge: {}\\nSalary: {}\".format(self.role,self.experience,self.age,self.salary)"
   ]
  },
  {
   "cell_type": "code",
   "execution_count": 2,
   "metadata": {},
   "outputs": [],
   "source": [
    "semi = employee(\"ceo\",10,19,10000)\n",
    "ahmet = employee(\"cto\",7,17,7000)\n",
    "mehmet = employee(\"cfo\",6,18,7500)"
   ]
  },
  {
   "cell_type": "code",
   "execution_count": 3,
   "metadata": {},
   "outputs": [],
   "source": [
    "class board(employee):#this is inheritance\n",
    "\n",
    "    def __init__(self,role,experience,age,salary): # Sorumlu olduğu kişi sayısı\n",
    "        print(\"Board function's init function\")\n",
    "        self.role = role\n",
    "        self.experience = experience\n",
    "        self.age = age\n",
    "        self.salary = salary # Yeni eklenen özellik\n",
    "    def raise_salary(self,raise_amount):\n",
    "        print(\"Raising the salary...\")\n",
    "        self.salary += raise_amount\n",
    "        print(\"New salary is: {}\".format(self.salary))\n",
    "    def discount_salary(self,discount_amount):\n",
    "        print(\"Discounting the salary...\")\n",
    "        self.salary += discount_amount\n",
    "        print(\"New salary is: {}\".format(self.salary))"
   ]
  },
  {
   "cell_type": "code",
   "execution_count": 4,
   "metadata": {},
   "outputs": [
    {
     "name": "stdout",
     "output_type": "stream",
     "text": [
      "Board function's init function\n"
     ]
    }
   ],
   "source": [
    "semi = board(\"ceo\",5,19,10000)#board function's init function is overrided"
   ]
  },
  {
   "cell_type": "markdown",
   "metadata": {},
   "source": [
    "# Super function"
   ]
  },
  {
   "cell_type": "code",
   "execution_count": 5,
   "metadata": {},
   "outputs": [],
   "source": [
    "class board(employee):#this is inheritance\n",
    "\n",
    "    def __init__(self,role,experience,age,salary,people): # People: number of people he/she is responsible\n",
    "        super().__init__(role,experience,age,salary)\n",
    "        print(\"Board function's init function\")\n",
    "        self.people = people# New added future\n",
    "    def raise_salary(self,raise_amount):\n",
    "        print(\"Raising the salary...\")\n",
    "        self.salary += raise_amount\n",
    "        print(\"New salary is: {}\".format(self.salary))\n",
    "    def discount_salary(self,discount_amount):\n",
    "        print(\"Discounting the salary...\")\n",
    "        self.salary += discount_amount\n",
    "        print(\"New salary is: {}\".format(self.salary))\n",
    "    def __str__(self):\n",
    "        return \"Role: {}\\nExperience: {}\\nAge: {}\\nSalary: {}\\nPeople: {}\".format(self.role,self.experience,self.age,\n",
    "                                                                                  self.salary,self.people)"
   ]
  },
  {
   "cell_type": "code",
   "execution_count": 6,
   "metadata": {},
   "outputs": [
    {
     "name": "stdout",
     "output_type": "stream",
     "text": [
      "Board function's init function\n"
     ]
    }
   ],
   "source": [
    "semi = board(\"ceo\",5,19,10000,12)"
   ]
  },
  {
   "cell_type": "code",
   "execution_count": 7,
   "metadata": {},
   "outputs": [
    {
     "name": "stdout",
     "output_type": "stream",
     "text": [
      "Role: ceo\n",
      "Experience: 5\n",
      "Age: 19\n",
      "Salary: 10000\n",
      "People: 12\n"
     ]
    }
   ],
   "source": [
    "print(semi)"
   ]
  },
  {
   "cell_type": "markdown",
   "metadata": {},
   "source": [
    "# More method\n",
    "Special method names: https://diveinto.org/python3/special-method-names.html"
   ]
  },
  {
   "cell_type": "code",
   "execution_count": 8,
   "metadata": {},
   "outputs": [
    {
     "data": {
      "text/plain": [
       "'PapayaWhip'"
      ]
     },
     "execution_count": 8,
     "metadata": {},
     "output_type": "execute_result"
    }
   ],
   "source": [
    "class Dynamo:\n",
    "    def __getattr__(self, key):\n",
    "        if key == \"color\":         \n",
    "            return \"PapayaWhip\"\n",
    "        else:\n",
    "            raise AttributeError  \n",
    "dyn = Dynamo()\n",
    "dyn.color"
   ]
  },
  {
   "cell_type": "code",
   "execution_count": 9,
   "metadata": {},
   "outputs": [
    {
     "data": {
      "text/plain": [
       "'LemonChiffon'"
      ]
     },
     "execution_count": 9,
     "metadata": {},
     "output_type": "execute_result"
    }
   ],
   "source": [
    "dyn.color = 'LemonChiffon'\n",
    "dyn.color"
   ]
  },
  {
   "cell_type": "code",
   "execution_count": 10,
   "metadata": {},
   "outputs": [],
   "source": [
    "nums = [12,32,43,5435,645,6,43543,232,565,645,34,65,86,7,433,424,6754,234232,23]"
   ]
  },
  {
   "cell_type": "code",
   "execution_count": 11,
   "metadata": {},
   "outputs": [
    {
     "data": {
      "text/plain": [
       "19"
      ]
     },
     "execution_count": 11,
     "metadata": {},
     "output_type": "execute_result"
    }
   ],
   "source": [
    "def __len__(self):\n",
    "    return len(self.keys)\n",
    "nums.__len__()\n"
   ]
  },
  {
   "cell_type": "code",
   "execution_count": null,
   "metadata": {},
   "outputs": [],
   "source": []
  },
  {
   "cell_type": "code",
   "execution_count": 12,
   "metadata": {},
   "outputs": [],
   "source": [
    "def __add__():\n",
    "    pass"
   ]
  },
  {
   "cell_type": "code",
   "execution_count": 13,
   "metadata": {},
   "outputs": [],
   "source": [
    "class A:\n",
    "    def __add__(self, b):\n",
    "        return 3"
   ]
  },
  {
   "cell_type": "code",
   "execution_count": 14,
   "metadata": {},
   "outputs": [
    {
     "name": "stdout",
     "output_type": "stream",
     "text": [
      "3\n"
     ]
    }
   ],
   "source": [
    "object = A()\n",
    "print(object + 1)"
   ]
  },
  {
   "cell_type": "code",
   "execution_count": 15,
   "metadata": {},
   "outputs": [],
   "source": [
    "class A:\n",
    "    def __init__(self, val):\n",
    "         self.val = val\n",
    "    def __repr__(self):\n",
    "         return f'<A({self.val})>'\n",
    "    def __add__(self, other):\n",
    "         print(f'Summing {self} + {other}')\n",
    "         return A(self.val + other)"
   ]
  },
  {
   "cell_type": "code",
   "execution_count": 16,
   "metadata": {},
   "outputs": [
    {
     "name": "stdout",
     "output_type": "stream",
     "text": [
      "Summing <A(42)> + 5\n"
     ]
    },
    {
     "data": {
      "text/plain": [
       "<A(47)>"
      ]
     },
     "execution_count": 16,
     "metadata": {},
     "output_type": "execute_result"
    }
   ],
   "source": [
    "A(42)+5"
   ]
  },
  {
   "cell_type": "code",
   "execution_count": null,
   "metadata": {},
   "outputs": [],
   "source": []
  },
  {
   "cell_type": "markdown",
   "metadata": {},
   "source": [
    "# Football team example for class"
   ]
  },
  {
   "cell_type": "code",
   "execution_count": 44,
   "metadata": {},
   "outputs": [],
   "source": [
    "class player():\n",
    "    def __init__(self,team,position,experience,age,salary,goals):\n",
    "        self.team = team\n",
    "        self.position = position\n",
    "        self.experience  = experience\n",
    "        self.age   = age\n",
    "        self.salary  = salary\n",
    "        self.goals = goals\n",
    "    def __str__(self):\n",
    "        return \"Team: {}\\nPosition: {}\\nExperience: {}\\nAge: {}\\nSalary: {} Goals: {}\\n\".format(self.team,self.position,\n",
    "                                                                                    self.experience,self.age,\n",
    "                                                                                    self.salary,self.goals)\n",
    "    def change_position(self,new_position):\n",
    "        print(\"Position is changing...\")\n",
    "        self.position = new_position\n",
    "    def raise_salary(self,raise_amount):\n",
    "        print(\"Raising the salary...\")\n",
    "        self.salary += raise_amount\n",
    "        print(\"New salary is: {}\".format(self.salary))\n",
    "    def discount_salary(self,discount_amount):\n",
    "        print(\"Discounting the salary...\")\n",
    "        self.salary += discount_amount\n",
    "        print(\"New salary is: {}\".format(self.salary))\n",
    "    def add_goal(self,adding_goal):\n",
    "        print(\"Adding goal\")\n",
    "        self.goal += adding_goal"
   ]
  },
  {
   "cell_type": "code",
   "execution_count": 45,
   "metadata": {},
   "outputs": [],
   "source": [
    "Ronaldo = player(\"juventus\",\"forward\",29,36,31000000,740)\n",
    "Messi = player(\"Barcelona\",\"forward\",26,33,71000000,705)"
   ]
  },
  {
   "cell_type": "code",
   "execution_count": 46,
   "metadata": {},
   "outputs": [
    {
     "data": {
      "text/plain": [
       "'Team: juventus\\nPosition: forward\\nExperience: 29\\nAge: 36\\nSalary: 31000000 Goals: 740\\n'"
      ]
     },
     "execution_count": 46,
     "metadata": {},
     "output_type": "execute_result"
    }
   ],
   "source": [
    "Ronaldo.__str__()"
   ]
  },
  {
   "cell_type": "markdown",
   "metadata": {},
   "source": [
    "# Day7\n",
    "➡️Files(open, close, write, edit etc.)"
   ]
  }
 ],
 "metadata": {
  "kernelspec": {
   "display_name": "Python (env2)",
   "language": "python",
   "name": "env2"
  },
  "language_info": {
   "codemirror_mode": {
    "name": "ipython",
    "version": 3
   },
   "file_extension": ".py",
   "mimetype": "text/x-python",
   "name": "python",
   "nbconvert_exporter": "python",
   "pygments_lexer": "ipython3",
   "version": "3.6.11"
  }
 },
 "nbformat": 4,
 "nbformat_minor": 4
}
