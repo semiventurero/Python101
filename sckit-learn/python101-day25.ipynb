{
 "cells": [
  {
   "cell_type": "markdown",
   "metadata": {},
   "source": [
    "# Statsmodels Api"
   ]
  },
  {
   "cell_type": "code",
   "execution_count": 43,
   "metadata": {},
   "outputs": [],
   "source": [
    "import matplotlib.pyplot as plt\n",
    "import numpy as np\n",
    "from sklearn import linear_model\n",
    "import statsmodels.api as sm"
   ]
  },
  {
   "cell_type": "code",
   "execution_count": 55,
   "metadata": {},
   "outputs": [
    {
     "name": "stdout",
     "output_type": "stream",
     "text": [
      "[[ 3]\n",
      " [ 6]\n",
      " [ 8]\n",
      " [10]\n",
      " [12]\n",
      " [15]\n",
      " [18]\n",
      " [20]\n",
      " [22]\n",
      " [23]\n",
      " [25]]\n",
      "[ 9  5 12  7 16 11 20 14 24 16 26]\n"
     ]
    }
   ],
   "source": [
    "x = np.array([3, 6, 8,10, 12,15, 18, 20, 22,23,25]).reshape((-1, 1))#makes it one column\n",
    "y = np.array([9, 5, 12,7, 16,11, 20,14, 24, 16,26])\n",
    "x, y = np.array(x), np.array(y)\n",
    "print(x)\n",
    "print(y)"
   ]
  },
  {
   "cell_type": "code",
   "execution_count": 56,
   "metadata": {},
   "outputs": [
    {
     "data": {
      "image/png": "[encoded data removed]",
      "text/plain": [
       "<Figure size 432x288 with 1 Axes>"
      ]
     },
     "metadata": {
      "needs_background": "light"
     },
     "output_type": "display_data"
    }
   ],
   "source": [
    "plt.plot(x);\n",
    "plt.plot(y);"
   ]
  },
  {
   "cell_type": "code",
   "execution_count": 57,
   "metadata": {},
   "outputs": [],
   "source": [
    "x = sm.add_constant(x)"
   ]
  },
  {
   "cell_type": "code",
   "execution_count": 58,
   "metadata": {},
   "outputs": [],
   "source": [
    "model = sm.OLS(y, x)"
   ]
  },
  {
   "cell_type": "code",
   "execution_count": 59,
   "metadata": {},
   "outputs": [],
   "source": [
    "results = model.fit()"
   ]
  },
  {
   "cell_type": "code",
   "execution_count": 60,
   "metadata": {},
   "outputs": [
    {
     "name": "stdout",
     "output_type": "stream",
     "text": [
      "                            OLS Regression Results                            \n",
      "==============================================================================\n",
      "Dep. Variable:                      y   R-squared:                       0.669\n",
      "Model:                            OLS   Adj. R-squared:                  0.632\n",
      "Method:                 Least Squares   F-statistic:                     18.18\n",
      "Date:                Thu, 29 Apr 2021   Prob (F-statistic):            0.00210\n",
      "Time:                        23:43:16   Log-Likelihood:                -29.976\n",
      "No. Observations:                  11   AIC:                             63.95\n",
      "Df Residuals:                       9   BIC:                             64.75\n",
      "Df Model:                           1                                         \n",
      "Covariance Type:            nonrobust                                         \n",
      "==============================================================================\n",
      "                 coef    std err          t      P>|t|      [0.025      0.975]\n",
      "------------------------------------------------------------------------------\n",
      "const          3.6594      2.835      1.291      0.229      -2.753      10.072\n",
      "x1             0.7392      0.173      4.263      0.002       0.347       1.131\n",
      "==============================================================================\n",
      "Omnibus:                       10.386   Durbin-Watson:                   3.624\n",
      "Prob(Omnibus):                  0.006   Jarque-Bera (JB):                1.686\n",
      "Skew:                          -0.177   Prob(JB):                        0.430\n",
      "Kurtosis:                       1.115   Cond. No.                         37.8\n",
      "==============================================================================\n",
      "\n",
      "Notes:\n",
      "[1] Standard Errors assume that the covariance matrix of the errors is correctly specified.\n"
     ]
    },
    {
     "name": "stderr",
     "output_type": "stream",
     "text": [
      "C:\\Anaconda3\\envs\\env2\\lib\\site-packages\\scipy\\stats\\stats.py:1604: UserWarning: kurtosistest only valid for n>=20 ... continuing anyway, n=11\n",
      "  \"anyway, n=%i\" % int(n))\n"
     ]
    }
   ],
   "source": [
    "import warnings\n",
    "print(results.summary())"
   ]
  },
  {
   "cell_type": "code",
   "execution_count": 61,
   "metadata": {},
   "outputs": [
    {
     "name": "stdout",
     "output_type": "stream",
     "text": [
      "coefficient of determination: 0.6688181861303482\n",
      "adjusted coefficient of determination: 0.632020206811498\n",
      "regression coefficients: [3.65944882 0.73917323]\n",
      "predicted response:\n",
      "[ 5.8769685   8.09448819  9.57283465 11.0511811  12.52952756 14.74704724\n",
      " 16.96456693 18.44291339 19.92125984 20.66043307 22.13877953]\n",
      "*************************************************************\n",
      "\n",
      "predicted response:\n",
      "[ 5.8769685   8.09448819  9.57283465 11.0511811  12.52952756 14.74704724\n",
      " 16.96456693 18.44291339 19.92125984 20.66043307 22.13877953]\n"
     ]
    }
   ],
   "source": [
    "print('coefficient of determination:', results.rsquared)\n",
    "print('adjusted coefficient of determination:', results.rsquared_adj)\n",
    "print('regression coefficients:', results.params)\n",
    "print('predicted response:', results.fittedvalues, sep='\\n')\n",
    "print(\"*************************************************************\\n\")\n",
    "print('predicted response:', results.predict(x), sep='\\n')"
   ]
  },
  {
   "cell_type": "markdown",
   "metadata": {},
   "source": [
    "# Day 26\n",
    "Scikit Learn"
   ]
  }
 ],
 "metadata": {
  "kernelspec": {
   "display_name": "Python (env2)",
   "language": "python",
   "name": "env2"
  },
  "language_info": {
   "codemirror_mode": {
    "name": "ipython",
    "version": 3
   },
   "file_extension": ".py",
   "mimetype": "text/x-python",
   "name": "python",
   "nbconvert_exporter": "python",
   "pygments_lexer": "ipython3",
   "version": "3.6.11"
  }
 },
 "nbformat": 4,
 "nbformat_minor": 4
}
