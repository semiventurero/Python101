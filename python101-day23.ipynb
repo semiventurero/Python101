{
 "cells": [
  {
   "cell_type": "code",
   "execution_count": 1,
   "metadata": {},
   "outputs": [],
   "source": [
    "import matplotlib.pyplot as plt\n",
    "import numpy as np\n",
    "import pandas as pd\n",
    "from sklearn import datasets\n",
    "from sklearn.linear_model import LinearRegression#resource: https://scikit-learn.org/stable/modules/linear_model.html\n",
    "from sklearn import linear_model\n",
    "import seaborn as sns"
   ]
  },
  {
   "cell_type": "markdown",
   "metadata": {},
   "source": [
    "resource: https://realpython.com/linear-regression-in-python/\n",
    "        \n",
    "        https://scikit-learn.org/stable/modules/linear_model.html"
   ]
  },
  {
   "cell_type": "code",
   "execution_count": 2,
   "metadata": {},
   "outputs": [
    {
     "data": {
      "image/png": "[encoded data removed]",
      "text/plain": [
       "<Figure size 432x288 with 1 Axes>"
      ]
     },
     "metadata": {
      "needs_background": "light"
     },
     "output_type": "display_data"
    }
   ],
   "source": [
    "x = np.array([3, 6, 8,10, 12,15, 18, 20, 22,23,25])\n",
    "y = np.array([9, 5, 12,7, 16,11, 20,14, 24, 16,26])\n",
    "plt.scatter(x,y)\n",
    "plt.plot(x,y);"
   ]
  },
  {
   "cell_type": "code",
   "execution_count": 3,
   "metadata": {},
   "outputs": [
    {
     "name": "stdout",
     "output_type": "stream",
     "text": [
      "[[ 3]\n",
      " [ 6]\n",
      " [ 8]\n",
      " [10]\n",
      " [12]\n",
      " [15]\n",
      " [18]\n",
      " [20]\n",
      " [22]\n",
      " [23]\n",
      " [25]]\n",
      "[ 9  5 12  7 16 11 20 14 24 16 26]\n"
     ]
    }
   ],
   "source": [
    "x = np.array([3, 6, 8,10, 12,15, 18, 20, 22,23,25]).reshape((-1, 1))#makes it one column\n",
    "y = np.array([9, 5, 12,7, 16,11, 20,14, 24, 16,26])\n",
    "print(x)\n",
    "print(y)"
   ]
  },
  {
   "cell_type": "markdown",
   "metadata": {},
   "source": [
    "# Simple Linear Regression"
   ]
  },
  {
   "cell_type": "code",
   "execution_count": 4,
   "metadata": {},
   "outputs": [
    {
     "data": {
      "text/plain": [
       "LinearRegression()"
      ]
     },
     "execution_count": 4,
     "metadata": {},
     "output_type": "execute_result"
    }
   ],
   "source": [
    "model = LinearRegression()#.fit(x,y)\n",
    "model.fit(x, y)#calculates the optimal values of the weights 𝑏₀ and 𝑏₁"
   ]
  },
  {
   "cell_type": "code",
   "execution_count": 5,
   "metadata": {},
   "outputs": [
    {
     "name": "stdout",
     "output_type": "stream",
     "text": [
      "coefficient of determination: 0.6688181861303483\n",
      "intercept: 3.659448818897637\n",
      "slope: [0.73917323]\n"
     ]
    }
   ],
   "source": [
    "r_sq = model.score(x, y)\n",
    "print(\"coefficient of determination:\", r_sq)\n",
    "print(\"intercept:\", model.intercept_)#shows the approixamte y value when x is zero\n",
    "print(\"slope:\", model.coef_)#slope"
   ]
  },
  {
   "cell_type": "markdown",
   "metadata": {},
   "source": [
    "Chart"
   ]
  },
  {
   "cell_type": "code",
   "execution_count": 21,
   "metadata": {},
   "outputs": [
    {
     "data": {
      "image/png": "[encoded data removed]",
      "text/plain": [
       "<Figure size 432x288 with 1 Axes>"
      ]
     },
     "metadata": {
      "needs_background": "light"
     },
     "output_type": "display_data"
    }
   ],
   "source": [
    "xfit = np.linspace(-1, 26)\n",
    "Xfit = xfit[:, np.newaxis]\n",
    "yfit = model.predict(Xfit)\n",
    "\n",
    "plt.scatter(x, y,color=\"yellow\")\n",
    "plt.plot(xfit, yfit,\"-r\");\n",
    "plt.savefig(\"images/linear_regression1.png\")"
   ]
  },
  {
   "cell_type": "code",
   "execution_count": 7,
   "metadata": {},
   "outputs": [
    {
     "name": "stdout",
     "output_type": "stream",
     "text": [
      "intercept: [3.65944882]\n",
      "slope: [[0.73917323]]\n"
     ]
    }
   ],
   "source": [
    "model2 = LinearRegression().fit(x, y.reshape((-1, 1)))\n",
    "print('intercept:', model2.intercept_)#1D\n",
    "print('slope:', model2.coef_)#2D"
   ]
  },
  {
   "cell_type": "code",
   "execution_count": 8,
   "metadata": {},
   "outputs": [
    {
     "name": "stdout",
     "output_type": "stream",
     "text": [
      "predicted response:\n",
      "[ 5.8769685   8.09448819  9.57283465 11.0511811  12.52952756 14.74704724\n",
      " 16.96456693 18.44291339 19.92125984 20.66043307 22.13877953]\n"
     ]
    }
   ],
   "source": [
    "y_pred = model.predict(x)\n",
    "print('predicted response:', y_pred, sep='\\n')"
   ]
  },
  {
   "cell_type": "code",
   "execution_count": 9,
   "metadata": {},
   "outputs": [
    {
     "name": "stdout",
     "output_type": "stream",
     "text": [
      "predicted response:\n",
      "[[ 5.8769685 ]\n",
      " [ 8.09448819]\n",
      " [ 9.57283465]\n",
      " [11.0511811 ]\n",
      " [12.52952756]\n",
      " [14.74704724]\n",
      " [16.96456693]\n",
      " [18.44291339]\n",
      " [19.92125984]\n",
      " [20.66043307]\n",
      " [22.13877953]]\n"
     ]
    }
   ],
   "source": [
    "y_pred = model.intercept_ + model.coef_ * x\n",
    "print('predicted response:', y_pred, sep='\\n')"
   ]
  },
  {
   "cell_type": "code",
   "execution_count": 10,
   "metadata": {},
   "outputs": [
    {
     "name": "stdout",
     "output_type": "stream",
     "text": [
      "[[ 0]\n",
      " [ 1]\n",
      " [ 2]\n",
      " [ 3]\n",
      " [ 4]\n",
      " [ 5]\n",
      " [ 6]\n",
      " [ 7]\n",
      " [ 8]\n",
      " [ 9]\n",
      " [10]]\n",
      "[ 3.65944882  4.39862205  5.13779528  5.8769685   6.61614173  7.35531496\n",
      "  8.09448819  8.83366142  9.57283465 10.31200787 11.0511811 ]\n"
     ]
    }
   ],
   "source": [
    " x2 = np.arange(11).reshape((-1, 1))\n",
    "print(x2)\n",
    "y2 = model.predict(x2)\n",
    "print(y2)"
   ]
  },
  {
   "cell_type": "code",
   "execution_count": 22,
   "metadata": {},
   "outputs": [
    {
     "data": {
      "image/png": "[encoded data removed]",
      "text/plain": [
       "<Figure size 432x288 with 1 Axes>"
      ]
     },
     "metadata": {
      "needs_background": "light"
     },
     "output_type": "display_data"
    }
   ],
   "source": [
    "xfit = np.linspace(-1, 11)\n",
    "Xfit = xfit[:, np.newaxis]\n",
    "yfit = model.predict(Xfit)\n",
    "\n",
    "plt.scatter(x2, y2, color=\"black\")\n",
    "plt.plot(xfit, yfit,\"-r\");\n",
    "plt.savefig(\"images/predicted_linear_regression2.png\")"
   ]
  },
  {
   "cell_type": "markdown",
   "metadata": {},
   "source": [
    "# Day 24\n",
    "Scikit-Learn"
   ]
  }
 ],
 "metadata": {
  "kernelspec": {
   "display_name": "Python 3",
   "language": "python",
   "name": "python3"
  },
  "language_info": {
   "codemirror_mode": {
    "name": "ipython",
    "version": 3
   },
   "file_extension": ".py",
   "mimetype": "text/x-python",
   "name": "python",
   "nbconvert_exporter": "python",
   "pygments_lexer": "ipython3",
   "version": "3.8.5"
  }
 },
 "nbformat": 4,
 "nbformat_minor": 4
}
