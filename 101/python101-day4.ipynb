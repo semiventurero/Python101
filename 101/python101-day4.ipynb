{
 "cells": [
  {
   "cell_type": "markdown",
   "metadata": {},
   "source": [
    "# Taking input from users"
   ]
  },
  {
   "cell_type": "code",
   "execution_count": 1,
   "metadata": {},
   "outputs": [
    {
     "name": "stdout",
     "output_type": "stream",
     "text": [
      "What is your name? se\n",
      "Hello, se\n"
     ]
    }
   ],
   "source": [
    "name = input(\"What is your name? \")\n",
    "print(\"Hello,\",name)"
   ]
  },
  {
   "cell_type": "code",
   "execution_count": 3,
   "metadata": {},
   "outputs": [
    {
     "name": "stdout",
     "output_type": "stream",
     "text": [
      "Write a number between 1-10 ?-9\n",
      "Your number is smaller than 1, please write a number between 1-10: -9\n",
      "Your number is smaller than 1, please write a number between 1-10: -8\n",
      "Your number is smaller than 1, please write a number between 1-10: -7\n",
      "Your number is smaller than 1, please write a number between 1-10: 6\n",
      "Your number is 6\n"
     ]
    }
   ],
   "source": [
    "num = int(input(\"Write a number between 1-10 ?\"))\n",
    "i=0\n",
    "while(i ==0):\n",
    "    if(num>10):\n",
    "        print(\"Your number is greater than 10, please write a number between 1-10\")\n",
    "        num = int(input(\"Your number is greater than 10, please write a number between 1-10: \")) \n",
    "    elif(num<1):\n",
    "        num = int(input(\"Your number is smaller than 1, please write a number between 1-10: \"))\n",
    "    else:\n",
    "        print(\"Your number is\",num)\n",
    "        i -= 1"
   ]
  },
  {
   "cell_type": "markdown",
   "metadata": {},
   "source": [
    "Same code in function"
   ]
  },
  {
   "cell_type": "code",
   "execution_count": 4,
   "metadata": {},
   "outputs": [
    {
     "name": "stdout",
     "output_type": "stream",
     "text": [
      "Write a number between 1-10 ?2\n",
      "Your number is 2\n"
     ]
    }
   ],
   "source": [
    "def get_number():\n",
    "    num = int(input(\"Write a number between 1-10 ?\"))\n",
    "    i=0\n",
    "    while(i ==0):\n",
    "        if(num>10):\n",
    "            print(\"Your number is greater than 10, please write a number between 1-10\")\n",
    "            num = int(input(\"Your number is greater than 10, please write a number between 1-10: \")) \n",
    "        elif(num<1):\n",
    "            num = int(input(\"Your number is smaller than 1, please write a number between 1-10: \"))\n",
    "        else:\n",
    "            print(\"Your number is\",num)\n",
    "            i -= 1\n",
    "get_number()"
   ]
  },
  {
   "cell_type": "code",
   "execution_count": 5,
   "metadata": {},
   "outputs": [
    {
     "name": "stdout",
     "output_type": "stream",
     "text": [
      "What is your age? 19\n",
      "You can get driving licence\n"
     ]
    }
   ],
   "source": [
    "age = int(input(\"What is your age? \"))\n",
    "if(age>18 and age<85):\n",
    "    print(\"You can get driving licence\")\n",
    "elif(age>85):\n",
    "    print(\"You can't get driving licence\")\n",
    "elif(age<18 and age>0):\n",
    "    print(\"You can't get driving licence\")\n",
    "elif(age<0):\n",
    "    print(\"Write number greater than zero.\")\n",
    "else:\n",
    "    print(\"else\")"
   ]
  },
  {
   "cell_type": "markdown",
   "metadata": {},
   "source": [
    "# OOP(Object Oriented Programming)"
   ]
  },
  {
   "cell_type": "markdown",
   "metadata": {},
   "source": [
    "# Classes"
   ]
  },
  {
   "cell_type": "code",
   "execution_count": 7,
   "metadata": {},
   "outputs": [
    {
     "name": "stdout",
     "output_type": "stream",
     "text": [
      "test\n"
     ]
    }
   ],
   "source": [
    "class class_one():\n",
    "    print(\"test\")\n"
   ]
  },
  {
   "cell_type": "code",
   "execution_count": 8,
   "metadata": {},
   "outputs": [],
   "source": [
    "class car():\n",
    "    brand = \"Tesla\"\n",
    "    model = \"ModelS\"\n",
    "    color = \"red\"\n",
    "    price = 73000"
   ]
  },
  {
   "cell_type": "code",
   "execution_count": 11,
   "metadata": {},
   "outputs": [],
   "source": [
    "car1 = car()"
   ]
  },
  {
   "cell_type": "code",
   "execution_count": 14,
   "metadata": {},
   "outputs": [
    {
     "data": {
      "text/plain": [
       "'Tesla'"
      ]
     },
     "execution_count": 14,
     "metadata": {},
     "output_type": "execute_result"
    }
   ],
   "source": [
    "car1.brand"
   ]
  },
  {
   "cell_type": "code",
   "execution_count": 15,
   "metadata": {},
   "outputs": [
    {
     "data": {
      "text/plain": [
       "'red'"
      ]
     },
     "execution_count": 15,
     "metadata": {},
     "output_type": "execute_result"
    }
   ],
   "source": [
    "car1.color"
   ]
  },
  {
   "cell_type": "code",
   "execution_count": 17,
   "metadata": {},
   "outputs": [
    {
     "data": {
      "text/plain": [
       "['__class__',\n",
       " '__delattr__',\n",
       " '__dict__',\n",
       " '__dir__',\n",
       " '__doc__',\n",
       " '__eq__',\n",
       " '__format__',\n",
       " '__ge__',\n",
       " '__getattribute__',\n",
       " '__gt__',\n",
       " '__hash__',\n",
       " '__init__',\n",
       " '__init_subclass__',\n",
       " '__le__',\n",
       " '__lt__',\n",
       " '__module__',\n",
       " '__ne__',\n",
       " '__new__',\n",
       " '__reduce__',\n",
       " '__reduce_ex__',\n",
       " '__repr__',\n",
       " '__setattr__',\n",
       " '__sizeof__',\n",
       " '__str__',\n",
       " '__subclasshook__',\n",
       " '__weakref__',\n",
       " 'brand',\n",
       " 'color',\n",
       " 'model',\n",
       " 'price']"
      ]
     },
     "execution_count": 17,
     "metadata": {},
     "output_type": "execute_result"
    }
   ],
   "source": [
    "dir(car1)"
   ]
  },
  {
   "cell_type": "code",
   "execution_count": 19,
   "metadata": {},
   "outputs": [],
   "source": [
    "class car():\n",
    "    brand = \"Tesla\"\n",
    "    model = \"ModelS\"\n",
    "    color = \"red\"\n",
    "    price = 73000\n",
    "    def __init__(self):\n",
    "        print(\"init function\")"
   ]
  },
  {
   "cell_type": "code",
   "execution_count": 20,
   "metadata": {},
   "outputs": [
    {
     "name": "stdout",
     "output_type": "stream",
     "text": [
      "init function\n"
     ]
    }
   ],
   "source": [
    "car1 = car()"
   ]
  },
  {
   "cell_type": "code",
   "execution_count": 21,
   "metadata": {
    "scrolled": true
   },
   "outputs": [
    {
     "name": "stdout",
     "output_type": "stream",
     "text": [
      "Tesla\n"
     ]
    }
   ],
   "source": [
    "print(car1.brand)"
   ]
  },
  {
   "cell_type": "code",
   "execution_count": 22,
   "metadata": {},
   "outputs": [],
   "source": [
    "class cars():\n",
    "    def __init__(self,brand,model,color,price):\n",
    "        self.brand  = brand\n",
    "        self.model  = model\n",
    "        self.color   = color\n",
    "        self.price  = price"
   ]
  },
  {
   "cell_type": "code",
   "execution_count": 25,
   "metadata": {},
   "outputs": [],
   "source": [
    "car1 = cars(\"Tesla\",\"ModelS\",\"red\",73000)\n",
    "car2 = cars(\"Opel\",\"Astra\",\"grey\",35000)\n",
    "car3 = cars(\"Porche\",\"Taycan\",\"blue\",500000)"
   ]
  },
  {
   "cell_type": "markdown",
   "metadata": {},
   "source": [
    "# Day5\n",
    "1️⃣Inheritance\n",
    "\n",
    "2️⃣Try/except\n",
    "\n",
    "3️⃣Filter/Enumerate\n",
    "\n"
   ]
  },
  {
   "cell_type": "code",
   "execution_count": null,
   "metadata": {},
   "outputs": [],
   "source": []
  }
 ],
 "metadata": {
  "kernelspec": {
   "display_name": "Python (env2)",
   "language": "python",
   "name": "env2"
  },
  "language_info": {
   "codemirror_mode": {
    "name": "ipython",
    "version": 3
   },
   "file_extension": ".py",
   "mimetype": "text/x-python",
   "name": "python",
   "nbconvert_exporter": "python",
   "pygments_lexer": "ipython3",
   "version": "3.6.11"
  }
 },
 "nbformat": 4,
 "nbformat_minor": 4
}
