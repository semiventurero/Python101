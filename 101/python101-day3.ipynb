{
 "cells": [
  {
   "cell_type": "markdown",
   "metadata": {},
   "source": [
    "# For Loop"
   ]
  },
  {
   "cell_type": "code",
   "execution_count": 1,
   "metadata": {},
   "outputs": [
    {
     "name": "stdout",
     "output_type": "stream",
     "text": [
      "C\n",
      "Python\n",
      "Java\n",
      "Ruby\n",
      "R\n",
      "C++\n"
     ]
    }
   ],
   "source": [
    "langs = [\"C\", \"Python\", \"Java\", \"Ruby\", \"R\", \"C++\"]\n",
    "for i in langs:\n",
    "    print(i)"
   ]
  },
  {
   "cell_type": "markdown",
   "metadata": {},
   "source": [
    "Range"
   ]
  },
  {
   "cell_type": "code",
   "execution_count": 2,
   "metadata": {},
   "outputs": [
    {
     "name": "stdout",
     "output_type": "stream",
     "text": [
      "0\n",
      "1\n",
      "2\n",
      "3\n",
      "4\n"
     ]
    }
   ],
   "source": [
    "x = range(5)\n",
    "for i in x:\n",
    "    print(i)"
   ]
  },
  {
   "cell_type": "code",
   "execution_count": 3,
   "metadata": {},
   "outputs": [
    {
     "name": "stdout",
     "output_type": "stream",
     "text": [
      "5\n",
      "6\n",
      "7\n",
      "8\n",
      "9\n"
     ]
    }
   ],
   "source": [
    "x = range(5,10)\n",
    "for n in x:\n",
    "  print(n)"
   ]
  },
  {
   "cell_type": "markdown",
   "metadata": {},
   "source": [
    "Christmas tree"
   ]
  },
  {
   "cell_type": "code",
   "execution_count": 4,
   "metadata": {},
   "outputs": [
    {
     "name": "stdout",
     "output_type": "stream",
     "text": [
      "          *\n",
      "         ***\n",
      "        *****\n",
      "       *******\n",
      "      *********\n",
      "     ***********\n",
      "    *************\n",
      "   ***************\n",
      "  *****************\n",
      " *******************\n"
     ]
    }
   ],
   "source": [
    "#took the code from this link:https://stackoverflow.com/questions/26555986/using-for-loops-to-create-a-christmas-tree\n",
    "n=10\n",
    "for i in range(n):\n",
    "     print (' ' * (n - (i + 1)),\"*\" * (2*i+1))\n"
   ]
  },
  {
   "cell_type": "markdown",
   "metadata": {},
   "source": [
    "# While Loop"
   ]
  },
  {
   "cell_type": "code",
   "execution_count": 5,
   "metadata": {},
   "outputs": [
    {
     "name": "stdout",
     "output_type": "stream",
     "text": [
      "done\n",
      "4\n"
     ]
    }
   ],
   "source": [
    "#while x is 5 print done and print x is to show that it is not 5 anymore\n",
    "x = 5\n",
    "while x==5:\n",
    "    print(\"done\")\n",
    "    x -=1\n",
    "    print(x)"
   ]
  },
  {
   "cell_type": "code",
   "execution_count": 6,
   "metadata": {},
   "outputs": [
    {
     "name": "stdout",
     "output_type": "stream",
     "text": [
      "0 C\n",
      "1 Python\n",
      "2 Java\n",
      "3 Ruby\n",
      "4 R\n"
     ]
    }
   ],
   "source": [
    "x = 0\n",
    "while x < 5:\n",
    "    print(x,langs[x])\n",
    "    x += 1"
   ]
  },
  {
   "cell_type": "code",
   "execution_count": 7,
   "metadata": {},
   "outputs": [
    {
     "name": "stdout",
     "output_type": "stream",
     "text": [
      "10\n",
      "8\n",
      "6\n",
      "4\n",
      "2\n",
      "0\n",
      "-2\n",
      "-4\n"
     ]
    }
   ],
   "source": [
    "x = 10\n",
    "while x %2 == 0 and x>-5:#even\n",
    "    print(x)\n",
    "    x -=2"
   ]
  },
  {
   "cell_type": "code",
   "execution_count": 8,
   "metadata": {},
   "outputs": [
    {
     "name": "stdout",
     "output_type": "stream",
     "text": [
      "11\n",
      "9\n",
      "7\n",
      "5\n",
      "3\n",
      "1\n",
      "-1\n",
      "-3\n"
     ]
    }
   ],
   "source": [
    "x = 11\n",
    "while x %2 != 0 and x>-5:#odd\n",
    "    print(x)\n",
    "    x -= 2"
   ]
  },
  {
   "cell_type": "markdown",
   "metadata": {},
   "source": [
    "# Functions\n",
    "Functions defined with \"def\" in python. They are very useful to combine multiple line of code like lego."
   ]
  },
  {
   "cell_type": "code",
   "execution_count": 9,
   "metadata": {},
   "outputs": [
    {
     "name": "stdout",
     "output_type": "stream",
     "text": [
      "Hello World!\n"
     ]
    }
   ],
   "source": [
    "def hello():\n",
    "    print(\"Hello World!\")\n",
    "hello()"
   ]
  },
  {
   "cell_type": "code",
   "execution_count": 10,
   "metadata": {},
   "outputs": [
    {
     "name": "stdout",
     "output_type": "stream",
     "text": [
      "Hello semi\n"
     ]
    }
   ],
   "source": [
    "def hello_name(x):\n",
    "    print(\"Hello \"+x)\n",
    "hello_name(\"semi\")\n",
    "    "
   ]
  },
  {
   "cell_type": "code",
   "execution_count": 11,
   "metadata": {},
   "outputs": [
    {
     "name": "stdout",
     "output_type": "stream",
     "text": [
      "done\n",
      "4\n"
     ]
    }
   ],
   "source": [
    "def while_func():\n",
    "    x = 5\n",
    "    while x==5:\n",
    "        print(\"done\")\n",
    "        x -=1\n",
    "        print(x)\n",
    "while_func()"
   ]
  },
  {
   "cell_type": "code",
   "execution_count": 12,
   "metadata": {},
   "outputs": [
    {
     "name": "stdout",
     "output_type": "stream",
     "text": [
      "Hello Mr.Semi\n"
     ]
    }
   ],
   "source": [
    "def hello_mr_or_mrs(x,y):\n",
    "    print(\"Hello \"+x+\".\"+y)\n",
    "hello_mr_or_mrs(\"Mr\",\"Semi\")"
   ]
  },
  {
   "cell_type": "code",
   "execution_count": 13,
   "metadata": {},
   "outputs": [
    {
     "name": "stdout",
     "output_type": "stream",
     "text": [
      "C\n",
      "Python\n",
      "Java\n",
      "Ruby\n",
      "R\n",
      "C++\n"
     ]
    }
   ],
   "source": [
    "langs = [\"C\", \"Python\", \"Java\", \"Ruby\", \"R\", \"C++\"]\n",
    "\n",
    "def langs_func(lang):\n",
    "    for x in lang:\n",
    "        print(x)\n",
    "\n",
    "langs_func(langs)"
   ]
  },
  {
   "cell_type": "markdown",
   "metadata": {},
   "source": [
    "# Day4\n",
    "1️⃣Input\n",
    "\n",
    "2️⃣OOP(Object Oriented Programming)\n",
    "\n",
    "3️⃣Clasess"
   ]
  }
 ],
 "metadata": {
  "kernelspec": {
   "display_name": "Python (env2)",
   "language": "python",
   "name": "env2"
  },
  "language_info": {
   "codemirror_mode": {
    "name": "ipython",
    "version": 3
   },
   "file_extension": ".py",
   "mimetype": "text/x-python",
   "name": "python",
   "nbconvert_exporter": "python",
   "pygments_lexer": "ipython3",
   "version": "3.6.11"
  }
 },
 "nbformat": 4,
 "nbformat_minor": 4
}
