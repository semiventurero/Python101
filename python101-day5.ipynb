{
 "cells": [
  {
   "cell_type": "markdown",
   "metadata": {},
   "source": [
    "# Try/Except"
   ]
  },
  {
   "cell_type": "code",
   "execution_count": 2,
   "metadata": {},
   "outputs": [
    {
     "name": "stdout",
     "output_type": "stream",
     "text": [
      "Number:w\n",
      "That is not a number\n",
      "Number:2\n",
      "That is a number\n"
     ]
    }
   ],
   "source": [
    "#x = int(input(\"Number:\")) output will be ValueError: invalid literal for int() with base 10: 'askan'\n",
    "i = 0\n",
    "while(i == 0):\n",
    "    try:\n",
    "        x = int(input(\"Number:\"))\n",
    "        i -=1\n",
    "        print(\"That is a number\")\n",
    "    except:\n",
    "        print(\"That is not a number\")\n",
    "        "
   ]
  },
  {
   "cell_type": "markdown",
   "metadata": {},
   "source": [
    "# Filter&Enumerate\n",
    "Filter and enumaerate are inner functions in python. Inner functions, are functions that you define inside other functions. In Python, this kind of function has direct access to variables and names defined in the enclosing function. more:https://realpython.com/inner-functions-what-are-they-good-for/#:~:text=Inner%20functions%2C%20also%20known%20as,closure%20factories%20and%20decorator%20functions. "
   ]
  },
  {
   "cell_type": "code",
   "execution_count": 4,
   "metadata": {},
   "outputs": [
    {
     "name": "stdout",
     "output_type": "stream",
     "text": [
      "56\n",
      "87\n",
      "98\n",
      "54\n",
      "54\n",
      "765\n",
      "3454\n"
     ]
    }
   ],
   "source": [
    "nums = [1,3,5,12,43,56,87,98,54,23,54,765,3454]\n",
    "def func(x):\n",
    "    if (x < 50):\n",
    "        return False\n",
    "    else:\n",
    "        return True\n",
    "\n",
    "fifthy = filter(func, nums)#filter\n",
    "\n",
    "for x in fifthy:\n",
    "  print(x)"
   ]
  },
  {
   "cell_type": "code",
   "execution_count": 28,
   "metadata": {},
   "outputs": [
    {
     "name": "stdout",
     "output_type": "stream",
     "text": [
      "sum: 4655\n",
      "mean(rounded): 358.08\n"
     ]
    }
   ],
   "source": [
    "x=0\n",
    "sum=0\n",
    "for i in nums:\n",
    "    sum += nums[x]\n",
    "    x+=1\n",
    "mean = round(sum/13,2)\n",
    "print(\"sum: {}\".format(sum))\n",
    "print(\"mean(rounded): {}\".format(mean))"
   ]
  },
  {
   "cell_type": "code",
   "execution_count": 29,
   "metadata": {},
   "outputs": [
    {
     "name": "stdout",
     "output_type": "stream",
     "text": [
      "Number400\n",
      "Your number is greater than average of the nums.\n"
     ]
    }
   ],
   "source": [
    "def func2(x):\n",
    "    if(x> mean):\n",
    "        print(\"Your number is greater than average of the nums.\")\n",
    "    elif(x<mean):\n",
    "        print(\"Your number is smaller than average of the nums.\")\n",
    "    else:\n",
    "        print(\"Your number is equal to average of the nums\")\n",
    "x = int(input(\"Number\"))\n",
    "func2(x)\n",
    "    "
   ]
  },
  {
   "cell_type": "markdown",
   "metadata": {},
   "source": [
    "Without filter"
   ]
  },
  {
   "cell_type": "code",
   "execution_count": 39,
   "metadata": {},
   "outputs": [
    {
     "name": "stdout",
     "output_type": "stream",
     "text": [
      "This number is smaller than average of the nums: 1\n",
      "This number is smaller than average of the nums: 3\n",
      "This number is smaller than average of the nums: 5\n",
      "This number is smaller than average of the nums: 12\n",
      "This number is smaller than average of the nums: 43\n",
      "This number is smaller than average of the nums: 56\n",
      "This number is smaller than average of the nums: 87\n",
      "This number is smaller than average of the nums: 98\n",
      "This number is smaller than average of the nums: 54\n",
      "This number is smaller than average of the nums: 23\n",
      "This number is smaller than average of the nums: 54\n",
      "This number is greater than average of the nums: 765\n",
      "This number is greater than average of the nums: 3454\n"
     ]
    }
   ],
   "source": [
    "mean=358.8\n",
    "def func3():\n",
    "    x=0\n",
    "    for i in nums:\n",
    "        if(nums[x]>mean):\n",
    "            print(\"This number is greater than average of the nums: {}\".format(nums[x]))\n",
    "        if(nums[x]<mean):\n",
    "            print(\"This number is smaller than average of the nums: {}\".format(nums[x]))\n",
    "        elif(nums[x]==mean):\n",
    "            print(\"This number is equal to average of the nums: {}\".format(nums[x]))\n",
    "        \n",
    "        x+=1\n",
    "func3()\n"
   ]
  },
  {
   "cell_type": "markdown",
   "metadata": {},
   "source": [
    "With filter"
   ]
  },
  {
   "cell_type": "code",
   "execution_count": 40,
   "metadata": {},
   "outputs": [
    {
     "name": "stdout",
     "output_type": "stream",
     "text": [
      "765\n",
      "3454\n"
     ]
    }
   ],
   "source": [
    "def func4(x):\n",
    "    if (x <358.8):\n",
    "        return False\n",
    "    else:\n",
    "        return True\n",
    "fifthy = filter(func4, nums)#filter\n",
    "\n",
    "for x in fifthy:\n",
    "  print(x)"
   ]
  },
  {
   "cell_type": "code",
   "execution_count": 46,
   "metadata": {},
   "outputs": [
    {
     "data": {
      "text/plain": [
       "enumerate"
      ]
     },
     "execution_count": 46,
     "metadata": {},
     "output_type": "execute_result"
    }
   ],
   "source": [
    "x = ('apple', 'banana', 'cherry')\n",
    "y = enumerate(x)\n",
    "type(y)"
   ]
  },
  {
   "cell_type": "code",
   "execution_count": 47,
   "metadata": {},
   "outputs": [
    {
     "name": "stdout",
     "output_type": "stream",
     "text": [
      "(0, 'apple')\n",
      "(1, 'banana')\n",
      "(2, 'cherry')\n"
     ]
    }
   ],
   "source": [
    "for i in enumerate(x):\n",
    "    print(i)    "
   ]
  },
  {
   "cell_type": "code",
   "execution_count": 50,
   "metadata": {},
   "outputs": [
    {
     "name": "stdout",
     "output_type": "stream",
     "text": [
      "0\n",
      "1\n",
      "2\n"
     ]
    }
   ],
   "source": [
    "for index,i in enumerate(x):#just indexes\n",
    "    print(index)    "
   ]
  },
  {
   "cell_type": "code",
   "execution_count": 52,
   "metadata": {},
   "outputs": [
    {
     "name": "stdout",
     "output_type": "stream",
     "text": [
      "apple\n",
      "banana\n",
      "cherry\n"
     ]
    }
   ],
   "source": [
    "for index,i in enumerate(x):#just values\n",
    "    print(i)    "
   ]
  },
  {
   "cell_type": "code",
   "execution_count": 43,
   "metadata": {},
   "outputs": [
    {
     "name": "stdout",
     "output_type": "stream",
     "text": [
      "1 a\n",
      "2 b\n",
      "3 c\n"
     ]
    }
   ],
   "source": [
    "values = [\"a\", \"b\", \"c\"]\n",
    "for count, value in enumerate(values, start=1):\n",
    "     print(count, value)"
   ]
  },
  {
   "cell_type": "markdown",
   "metadata": {},
   "source": [
    "# Inheritance"
   ]
  },
  {
   "cell_type": "code",
   "execution_count": 69,
   "metadata": {},
   "outputs": [],
   "source": [
    "class employee():\n",
    "    def __init__(self,role,experience,age,salary):\n",
    "        self.role  = role\n",
    "        self.experience  = experience\n",
    "        self.age   = age\n",
    "        self.salary  = salary"
   ]
  },
  {
   "cell_type": "code",
   "execution_count": 70,
   "metadata": {},
   "outputs": [],
   "source": [
    "semi = employee(\"ceo\",10,19,10000)\n",
    "ahmet = employee(\"cto\",7,17,7000)\n",
    "mehmet = employee(\"cfo\",6,18,7500)"
   ]
  },
  {
   "cell_type": "code",
   "execution_count": 71,
   "metadata": {},
   "outputs": [
    {
     "data": {
      "text/plain": [
       "'ceo'"
      ]
     },
     "execution_count": 71,
     "metadata": {},
     "output_type": "execute_result"
    }
   ],
   "source": [
    "semi.role"
   ]
  },
  {
   "cell_type": "code",
   "execution_count": 72,
   "metadata": {},
   "outputs": [
    {
     "data": {
      "text/plain": [
       "19"
      ]
     },
     "execution_count": 72,
     "metadata": {},
     "output_type": "execute_result"
    }
   ],
   "source": [
    "semi.age"
   ]
  },
  {
   "cell_type": "code",
   "execution_count": 73,
   "metadata": {},
   "outputs": [],
   "source": [
    "#del employee del deletes the employee class"
   ]
  },
  {
   "cell_type": "code",
   "execution_count": 74,
   "metadata": {},
   "outputs": [
    {
     "name": "stdout",
     "output_type": "stream",
     "text": [
      "<__main__.employee object at 0x0000022F213C8860>\n"
     ]
    }
   ],
   "source": [
    "print(semi)#normally semi's output is:<__main__.employee object at 0x0000022F1F4E31D0>"
   ]
  },
  {
   "cell_type": "code",
   "execution_count": 75,
   "metadata": {},
   "outputs": [],
   "source": [
    "class employee2():\n",
    "    def __init__(self,role,experience,age,salary):\n",
    "        self.role  = role\n",
    "        self.experience  = experience\n",
    "        self.age   = age\n",
    "        self.salary  = salary\n",
    "    def __str__(self):\n",
    "        return \"Role: {}\\nExperience: {}\\nAge: {}\\nSalary: {}\".format(self.role,self.experience,self.age,self.salary)"
   ]
  },
  {
   "cell_type": "code",
   "execution_count": 76,
   "metadata": {},
   "outputs": [],
   "source": [
    "semi = employee2(\"ceo\",10,19,10000)\n",
    "ahmet = employee2(\"cto\",7,17,7000)\n",
    "mehmet = employee2(\"cfo\",6,18,7500)"
   ]
  },
  {
   "cell_type": "code",
   "execution_count": 77,
   "metadata": {},
   "outputs": [
    {
     "name": "stdout",
     "output_type": "stream",
     "text": [
      "Role: ceo\n",
      "Experience: 10\n",
      "Age: 19\n",
      "Salary: 10000\n"
     ]
    }
   ],
   "source": [
    "print(semi)"
   ]
  },
  {
   "cell_type": "markdown",
   "metadata": {},
   "source": [
    "To write your own special method: https://diveinto.org/python3/special-method-names.html"
   ]
  },
  {
   "cell_type": "code",
   "execution_count": 78,
   "metadata": {},
   "outputs": [],
   "source": [
    "class board(employee2):#this is inheritance\n",
    "    pass"
   ]
  },
  {
   "cell_type": "code",
   "execution_count": 79,
   "metadata": {},
   "outputs": [
    {
     "name": "stdout",
     "output_type": "stream",
     "text": [
      "Role: chairperson\n",
      "Experience: 5\n",
      "Age: 40\n",
      "Salary: 17000\n"
     ]
    }
   ],
   "source": [
    "print(ata)"
   ]
  },
  {
   "cell_type": "code",
   "execution_count": 99,
   "metadata": {},
   "outputs": [],
   "source": [
    "class board(employee2):\n",
    "    def raise_salary(self,raise_amount):\n",
    "        print(\"Raising the salary...\")\n",
    "        self.salary += raise_amount\n",
    "        print(\"New salary is: {}\".format(self.salary))\n",
    "    def discount_salary(self,discount_amount):\n",
    "        print(\"Discounting the salary...\")\n",
    "        self.salary += discount_amount\n",
    "        print(\"New salary is: {}\".format(self.salary))"
   ]
  },
  {
   "cell_type": "code",
   "execution_count": 100,
   "metadata": {},
   "outputs": [],
   "source": [
    "deniz = board(\"member\",2,35,15000)\n",
    "kaan = board(\"member\",3,32,13000)\n",
    "ata = board(\"chairperson\",5,40,17000)"
   ]
  },
  {
   "cell_type": "code",
   "execution_count": 101,
   "metadata": {},
   "outputs": [
    {
     "data": {
      "text/plain": [
       "17000"
      ]
     },
     "execution_count": 101,
     "metadata": {},
     "output_type": "execute_result"
    }
   ],
   "source": [
    "ata.salary"
   ]
  },
  {
   "cell_type": "code",
   "execution_count": 102,
   "metadata": {},
   "outputs": [
    {
     "name": "stdout",
     "output_type": "stream",
     "text": [
      "Raising the salary...\n",
      "New salary is: 17009\n"
     ]
    }
   ],
   "source": [
    "ata.raise_salary(9)"
   ]
  },
  {
   "cell_type": "code",
   "execution_count": 103,
   "metadata": {},
   "outputs": [
    {
     "name": "stdout",
     "output_type": "stream",
     "text": [
      "Discounting the salary...\n",
      "New salary is: 17096\n"
     ]
    }
   ],
   "source": [
    "ata.discount_salary(87)"
   ]
  },
  {
   "cell_type": "markdown",
   "metadata": {},
   "source": [
    "# Day6\n",
    "1️⃣Overriding\n",
    "\n",
    "2️⃣Super function\n",
    "\n",
    "3️⃣More method\n",
    "\n",
    "4️⃣Football team example for class"
   ]
  }
 ],
 "metadata": {
  "kernelspec": {
   "display_name": "Python (env2)",
   "language": "python",
   "name": "env2"
  },
  "language_info": {
   "codemirror_mode": {
    "name": "ipython",
    "version": 3
   },
   "file_extension": ".py",
   "mimetype": "text/x-python",
   "name": "python",
   "nbconvert_exporter": "python",
   "pygments_lexer": "ipython3",
   "version": "3.6.11"
  }
 },
 "nbformat": 4,
 "nbformat_minor": 4
}
